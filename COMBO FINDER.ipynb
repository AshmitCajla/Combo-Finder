{
  "nbformat": 4,
  "nbformat_minor": 0,
  "metadata": {
    "colab": {
      "provenance": [],
      "authorship_tag": "ABX9TyOMNtaedIOJ6Q+JRnzVltD4",
      "include_colab_link": true
    },
    "kernelspec": {
      "name": "python3",
      "display_name": "Python 3"
    },
    "language_info": {
      "name": "python"
    }
  },
  "cells": [
    {
      "cell_type": "markdown",
      "metadata": {
        "id": "view-in-github",
        "colab_type": "text"
      },
      "source": [
        "<a href=\"https://colab.research.google.com/github/AshmitCajla/Combo-Finder/blob/main/COMBO%20FINDER.ipynb\" target=\"_parent\"><img src=\"https://colab.research.google.com/assets/colab-badge.svg\" alt=\"Open In Colab\"/></a>"
      ]
    },
    {
      "cell_type": "markdown",
      "source": [
        "**COMBO FINDER**"
      ],
      "metadata": {
        "id": "VZHKhsNA4CVr"
      }
    },
    {
      "cell_type": "code",
      "execution_count": 1,
      "metadata": {
        "colab": {
          "base_uri": "https://localhost:8080/"
        },
        "id": "5rpMURe33-gq",
        "outputId": "edc75bb0-e5ae-4795-8f4c-b67bbaac6524"
      },
      "outputs": [
        {
          "output_type": "stream",
          "name": "stdout",
          "text": [
            "('P1', 'P12', 'P14', 'P4', 'P5', 'P7', 'P9')\n",
            "('P1', 'P11', 'P12', 'P2', 'P4', 'P7', 'P9')\n",
            "('P10', 'P11', 'P12', 'P2', 'P6', 'P8')\n",
            "('P1', 'P10', 'P11', 'P12', 'P15', 'P2', 'P6')\n",
            "('P10', 'P15', 'P3', 'P4', 'P5', 'P6', 'P7', 'P8')\n",
            "('P1', 'P13', 'P14', 'P15', 'P2', 'P3', 'P4', 'P6', 'P8')\n",
            "('P1', 'P12', 'P13', 'P14', 'P3', 'P7', 'P8')\n",
            "('P1', 'P10', 'P12', 'P14', 'P15', 'P2', 'P5', 'P6')\n",
            "('P10', 'P12', 'P13', 'P15', 'P3', 'P5')\n",
            "('P10', 'P11', 'P14', 'P3', 'P4', 'P5', 'P7')\n",
            "('P1', 'P10', 'P13', 'P14', 'P3', 'P6', 'P7')\n",
            "('P1', 'P10', 'P11', 'P13', 'P14', 'P7')\n",
            "('P11', 'P12', 'P14', 'P2', 'P3', 'P4', 'P7')\n",
            "('P10', 'P11', 'P12', 'P13', 'P6')\n",
            "('P11', 'P13', 'P14', 'P6', 'P7', 'P8')\n",
            "('P10', 'P15', 'P2', 'P3', 'P4', 'P5', 'P7', 'P9')\n",
            "('P1', 'P12', 'P15', 'P4', 'P7', 'P8', 'P9')\n",
            "('P1', 'P10', 'P11', 'P15', 'P2', 'P3', 'P4', 'P5', 'P8')\n",
            "('P13', 'P4', 'P5', 'P6', 'P7', 'P8', 'P9')\n",
            "('P1', 'P10', 'P12', 'P14', 'P4', 'P5', 'P9')\n",
            "('P10', 'P11', 'P14', 'P3', 'P5', 'P6', 'P7')\n",
            "('P1', 'P10', 'P11', 'P14', 'P15', 'P7', 'P8')\n",
            "('P1', 'P12', 'P13', 'P14', 'P15', 'P5', 'P6')\n",
            "('P10', 'P11', 'P14', 'P15', 'P7', 'P9')\n",
            "('P1', 'P10', 'P14', 'P15', 'P2', 'P3', 'P5', 'P6', 'P7')\n",
            "('P1', 'P11', 'P14', 'P3', 'P5', 'P6', 'P7', 'P8')\n",
            "('P11', 'P12', 'P14', 'P4', 'P7', 'P8')\n",
            "('P1', 'P11', 'P12', 'P14', 'P2', 'P4', 'P5', 'P8')\n",
            "('P12', 'P14', 'P2', 'P5', 'P6', 'P7', 'P9')\n",
            "('P1', 'P10', 'P14', 'P3', 'P5', 'P6', 'P8', 'P9')\n",
            "('P1', 'P11', 'P2', 'P3', 'P4', 'P5', 'P6', 'P7', 'P8')\n",
            "('P1', 'P11', 'P13', 'P15', 'P4', 'P7', 'P9')\n",
            "('P1', 'P10', 'P11', 'P12', 'P15', 'P2', 'P3', 'P4')\n",
            "('P10', 'P14', 'P2', 'P3', 'P5', 'P6', 'P7', 'P9')\n",
            "('P1', 'P10', 'P12', 'P13', 'P14', 'P2', 'P5')\n",
            "('P10', 'P11', 'P13', 'P15', 'P2', 'P5', 'P6')\n",
            "('P13', 'P2', 'P4', 'P6', 'P7', 'P8', 'P9')\n",
            "('P1', 'P10', 'P11', 'P13', 'P2', 'P5', 'P7')\n",
            "('P1', 'P11', 'P14', 'P15', 'P2', 'P3', 'P4', 'P6', 'P7')\n",
            "('P1', 'P10', 'P12', 'P15', 'P3', 'P8', 'P9')\n",
            "('P1', 'P10', 'P13', 'P14', 'P5', 'P8', 'P9')\n",
            "('P10', 'P13', 'P15', 'P4', 'P7', 'P9')\n",
            "('P1', 'P12', 'P15', 'P4', 'P5', 'P6', 'P7', 'P8')\n",
            "('P11', 'P13', 'P15', 'P5', 'P7', 'P9')\n",
            "('P1', 'P12', 'P13', 'P14', 'P2', 'P3', 'P6', 'P8')\n",
            "('P12', 'P13', 'P14', 'P2', 'P6', 'P7')\n",
            "('P10', 'P11', 'P12', 'P7', 'P9')\n",
            "\n",
            "Total Sets:  47 \n",
            "\n"
          ]
        }
      ],
      "source": [
        "import random as r\n",
        "ProductList = {'P1':10, 'P2':15, 'P3':20, 'P4':25, 'P5':30, 'P6':35, 'P7':50,\n",
        "               'P8':40, 'P9':55, 'P10':60, 'P11':65, 'P12':75, 'P13':70,\n",
        "               'P14':45,'P15':35 }\n",
        "LB          = 290\n",
        "UB          = 310\n",
        "ResultList  = set()\n",
        "Iterations  = 1000\n",
        "\n",
        "for i in range(Iterations):\n",
        "    SetSize = r.randint(2, len(ProductList)-1)\n",
        "    ComboList = r.sample(list(ProductList.keys()),SetSize)\n",
        "    ComboList.sort()\n",
        "    ComboSum = sum([ ProductList[i] for i in ComboList])\n",
        "    if ComboSum>= LB and ComboSum<= UB:\n",
        "      ResultList.add(tuple(ComboList))\n",
        "\n",
        "for r in ResultList:\n",
        "\tprint (r)\n",
        "print (\"\\nTotal Sets: \", len(ResultList), \"\\n\")\n"
      ]
    }
  ]
}